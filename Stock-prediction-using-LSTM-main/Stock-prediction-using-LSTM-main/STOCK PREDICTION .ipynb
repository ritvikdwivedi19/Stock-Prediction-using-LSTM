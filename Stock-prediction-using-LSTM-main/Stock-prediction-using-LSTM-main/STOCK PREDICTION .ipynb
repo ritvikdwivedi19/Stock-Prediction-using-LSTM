{
 "cells": [
  {
   "cell_type": "code",
   "execution_count": 2,
   "id": "28e0ce41",
   "metadata": {},
   "outputs": [
    {
     "data": {
      "text/html": [
       "<div>\n",
       "<style scoped>\n",
       "    .dataframe tbody tr th:only-of-type {\n",
       "        vertical-align: middle;\n",
       "    }\n",
       "\n",
       "    .dataframe tbody tr th {\n",
       "        vertical-align: top;\n",
       "    }\n",
       "\n",
       "    .dataframe thead th {\n",
       "        text-align: right;\n",
       "    }\n",
       "</style>\n",
       "<table border=\"1\" class=\"dataframe\">\n",
       "  <thead>\n",
       "    <tr style=\"text-align: right;\">\n",
       "      <th></th>\n",
       "      <th>Date</th>\n",
       "      <th>Open</th>\n",
       "      <th>High</th>\n",
       "      <th>Low</th>\n",
       "      <th>Close</th>\n",
       "      <th>Adj Close</th>\n",
       "      <th>Volume</th>\n",
       "    </tr>\n",
       "  </thead>\n",
       "  <tbody>\n",
       "    <tr>\n",
       "      <th>0</th>\n",
       "      <td>2018-02-05</td>\n",
       "      <td>262.000000</td>\n",
       "      <td>267.899994</td>\n",
       "      <td>250.029999</td>\n",
       "      <td>254.259995</td>\n",
       "      <td>254.259995</td>\n",
       "      <td>11896100</td>\n",
       "    </tr>\n",
       "    <tr>\n",
       "      <th>1</th>\n",
       "      <td>2018-02-06</td>\n",
       "      <td>247.699997</td>\n",
       "      <td>266.700012</td>\n",
       "      <td>245.000000</td>\n",
       "      <td>265.720001</td>\n",
       "      <td>265.720001</td>\n",
       "      <td>12595800</td>\n",
       "    </tr>\n",
       "    <tr>\n",
       "      <th>2</th>\n",
       "      <td>2018-02-07</td>\n",
       "      <td>266.579987</td>\n",
       "      <td>272.450012</td>\n",
       "      <td>264.329987</td>\n",
       "      <td>264.559998</td>\n",
       "      <td>264.559998</td>\n",
       "      <td>8981500</td>\n",
       "    </tr>\n",
       "    <tr>\n",
       "      <th>3</th>\n",
       "      <td>2018-02-08</td>\n",
       "      <td>267.079987</td>\n",
       "      <td>267.619995</td>\n",
       "      <td>250.000000</td>\n",
       "      <td>250.100006</td>\n",
       "      <td>250.100006</td>\n",
       "      <td>9306700</td>\n",
       "    </tr>\n",
       "    <tr>\n",
       "      <th>4</th>\n",
       "      <td>2018-02-09</td>\n",
       "      <td>253.850006</td>\n",
       "      <td>255.800003</td>\n",
       "      <td>236.110001</td>\n",
       "      <td>249.470001</td>\n",
       "      <td>249.470001</td>\n",
       "      <td>16906900</td>\n",
       "    </tr>\n",
       "    <tr>\n",
       "      <th>...</th>\n",
       "      <td>...</td>\n",
       "      <td>...</td>\n",
       "      <td>...</td>\n",
       "      <td>...</td>\n",
       "      <td>...</td>\n",
       "      <td>...</td>\n",
       "      <td>...</td>\n",
       "    </tr>\n",
       "    <tr>\n",
       "      <th>1004</th>\n",
       "      <td>2022-01-31</td>\n",
       "      <td>401.970001</td>\n",
       "      <td>427.700012</td>\n",
       "      <td>398.200012</td>\n",
       "      <td>427.140015</td>\n",
       "      <td>427.140015</td>\n",
       "      <td>20047500</td>\n",
       "    </tr>\n",
       "    <tr>\n",
       "      <th>1005</th>\n",
       "      <td>2022-02-01</td>\n",
       "      <td>432.959991</td>\n",
       "      <td>458.480011</td>\n",
       "      <td>425.540009</td>\n",
       "      <td>457.130005</td>\n",
       "      <td>457.130005</td>\n",
       "      <td>22542300</td>\n",
       "    </tr>\n",
       "    <tr>\n",
       "      <th>1006</th>\n",
       "      <td>2022-02-02</td>\n",
       "      <td>448.250000</td>\n",
       "      <td>451.980011</td>\n",
       "      <td>426.480011</td>\n",
       "      <td>429.480011</td>\n",
       "      <td>429.480011</td>\n",
       "      <td>14346000</td>\n",
       "    </tr>\n",
       "    <tr>\n",
       "      <th>1007</th>\n",
       "      <td>2022-02-03</td>\n",
       "      <td>421.440002</td>\n",
       "      <td>429.260010</td>\n",
       "      <td>404.279999</td>\n",
       "      <td>405.600006</td>\n",
       "      <td>405.600006</td>\n",
       "      <td>9905200</td>\n",
       "    </tr>\n",
       "    <tr>\n",
       "      <th>1008</th>\n",
       "      <td>2022-02-04</td>\n",
       "      <td>407.309998</td>\n",
       "      <td>412.769989</td>\n",
       "      <td>396.640015</td>\n",
       "      <td>410.170013</td>\n",
       "      <td>410.170013</td>\n",
       "      <td>7782400</td>\n",
       "    </tr>\n",
       "  </tbody>\n",
       "</table>\n",
       "<p>1009 rows × 7 columns</p>\n",
       "</div>"
      ],
      "text/plain": [
       "            Date        Open        High         Low       Close   Adj Close   \n",
       "0     2018-02-05  262.000000  267.899994  250.029999  254.259995  254.259995  \\\n",
       "1     2018-02-06  247.699997  266.700012  245.000000  265.720001  265.720001   \n",
       "2     2018-02-07  266.579987  272.450012  264.329987  264.559998  264.559998   \n",
       "3     2018-02-08  267.079987  267.619995  250.000000  250.100006  250.100006   \n",
       "4     2018-02-09  253.850006  255.800003  236.110001  249.470001  249.470001   \n",
       "...          ...         ...         ...         ...         ...         ...   \n",
       "1004  2022-01-31  401.970001  427.700012  398.200012  427.140015  427.140015   \n",
       "1005  2022-02-01  432.959991  458.480011  425.540009  457.130005  457.130005   \n",
       "1006  2022-02-02  448.250000  451.980011  426.480011  429.480011  429.480011   \n",
       "1007  2022-02-03  421.440002  429.260010  404.279999  405.600006  405.600006   \n",
       "1008  2022-02-04  407.309998  412.769989  396.640015  410.170013  410.170013   \n",
       "\n",
       "        Volume  \n",
       "0     11896100  \n",
       "1     12595800  \n",
       "2      8981500  \n",
       "3      9306700  \n",
       "4     16906900  \n",
       "...        ...  \n",
       "1004  20047500  \n",
       "1005  22542300  \n",
       "1006  14346000  \n",
       "1007   9905200  \n",
       "1008   7782400  \n",
       "\n",
       "[1009 rows x 7 columns]"
      ]
     },
     "execution_count": 2,
     "metadata": {},
     "output_type": "execute_result"
    }
   ],
   "source": [
    "import pandas as pd\n",
    "import numpy as np\n",
    "import matplotlib.pyplot as plt\n",
    "from sklearn.preprocessing import MinMaxScaler\n",
    "df= pd.read_csv('NFLX.csv')\n",
    "df"
   ]
  },
  {
   "cell_type": "code",
   "execution_count": 3,
   "id": "b4f332a9",
   "metadata": {},
   "outputs": [
    {
     "data": {
      "text/html": [
       "<div>\n",
       "<style scoped>\n",
       "    .dataframe tbody tr th:only-of-type {\n",
       "        vertical-align: middle;\n",
       "    }\n",
       "\n",
       "    .dataframe tbody tr th {\n",
       "        vertical-align: top;\n",
       "    }\n",
       "\n",
       "    .dataframe thead th {\n",
       "        text-align: right;\n",
       "    }\n",
       "</style>\n",
       "<table border=\"1\" class=\"dataframe\">\n",
       "  <thead>\n",
       "    <tr style=\"text-align: right;\">\n",
       "      <th></th>\n",
       "      <th>Date</th>\n",
       "      <th>Open</th>\n",
       "      <th>High</th>\n",
       "      <th>Low</th>\n",
       "      <th>Close</th>\n",
       "      <th>Adj Close</th>\n",
       "      <th>Volume</th>\n",
       "    </tr>\n",
       "  </thead>\n",
       "  <tbody>\n",
       "    <tr>\n",
       "      <th>0</th>\n",
       "      <td>2018-02-05</td>\n",
       "      <td>262.000000</td>\n",
       "      <td>267.899994</td>\n",
       "      <td>250.029999</td>\n",
       "      <td>254.259995</td>\n",
       "      <td>254.259995</td>\n",
       "      <td>11896100</td>\n",
       "    </tr>\n",
       "    <tr>\n",
       "      <th>1</th>\n",
       "      <td>2018-02-06</td>\n",
       "      <td>247.699997</td>\n",
       "      <td>266.700012</td>\n",
       "      <td>245.000000</td>\n",
       "      <td>265.720001</td>\n",
       "      <td>265.720001</td>\n",
       "      <td>12595800</td>\n",
       "    </tr>\n",
       "    <tr>\n",
       "      <th>2</th>\n",
       "      <td>2018-02-07</td>\n",
       "      <td>266.579987</td>\n",
       "      <td>272.450012</td>\n",
       "      <td>264.329987</td>\n",
       "      <td>264.559998</td>\n",
       "      <td>264.559998</td>\n",
       "      <td>8981500</td>\n",
       "    </tr>\n",
       "    <tr>\n",
       "      <th>3</th>\n",
       "      <td>2018-02-08</td>\n",
       "      <td>267.079987</td>\n",
       "      <td>267.619995</td>\n",
       "      <td>250.000000</td>\n",
       "      <td>250.100006</td>\n",
       "      <td>250.100006</td>\n",
       "      <td>9306700</td>\n",
       "    </tr>\n",
       "    <tr>\n",
       "      <th>4</th>\n",
       "      <td>2018-02-09</td>\n",
       "      <td>253.850006</td>\n",
       "      <td>255.800003</td>\n",
       "      <td>236.110001</td>\n",
       "      <td>249.470001</td>\n",
       "      <td>249.470001</td>\n",
       "      <td>16906900</td>\n",
       "    </tr>\n",
       "  </tbody>\n",
       "</table>\n",
       "</div>"
      ],
      "text/plain": [
       "         Date        Open        High         Low       Close   Adj Close   \n",
       "0  2018-02-05  262.000000  267.899994  250.029999  254.259995  254.259995  \\\n",
       "1  2018-02-06  247.699997  266.700012  245.000000  265.720001  265.720001   \n",
       "2  2018-02-07  266.579987  272.450012  264.329987  264.559998  264.559998   \n",
       "3  2018-02-08  267.079987  267.619995  250.000000  250.100006  250.100006   \n",
       "4  2018-02-09  253.850006  255.800003  236.110001  249.470001  249.470001   \n",
       "\n",
       "     Volume  \n",
       "0  11896100  \n",
       "1  12595800  \n",
       "2   8981500  \n",
       "3   9306700  \n",
       "4  16906900  "
      ]
     },
     "execution_count": 3,
     "metadata": {},
     "output_type": "execute_result"
    }
   ],
   "source": [
    "df.head()"
   ]
  },
  {
   "cell_type": "code",
   "execution_count": 4,
   "id": "ad0df841",
   "metadata": {},
   "outputs": [
    {
     "data": {
      "text/html": [
       "<div>\n",
       "<style scoped>\n",
       "    .dataframe tbody tr th:only-of-type {\n",
       "        vertical-align: middle;\n",
       "    }\n",
       "\n",
       "    .dataframe tbody tr th {\n",
       "        vertical-align: top;\n",
       "    }\n",
       "\n",
       "    .dataframe thead th {\n",
       "        text-align: right;\n",
       "    }\n",
       "</style>\n",
       "<table border=\"1\" class=\"dataframe\">\n",
       "  <thead>\n",
       "    <tr style=\"text-align: right;\">\n",
       "      <th></th>\n",
       "      <th>Open</th>\n",
       "      <th>High</th>\n",
       "      <th>Low</th>\n",
       "      <th>Close</th>\n",
       "      <th>Adj Close</th>\n",
       "      <th>Volume</th>\n",
       "    </tr>\n",
       "  </thead>\n",
       "  <tbody>\n",
       "    <tr>\n",
       "      <th>count</th>\n",
       "      <td>1009.000000</td>\n",
       "      <td>1009.000000</td>\n",
       "      <td>1009.000000</td>\n",
       "      <td>1009.000000</td>\n",
       "      <td>1009.000000</td>\n",
       "      <td>1.009000e+03</td>\n",
       "    </tr>\n",
       "    <tr>\n",
       "      <th>mean</th>\n",
       "      <td>419.059673</td>\n",
       "      <td>425.320703</td>\n",
       "      <td>412.374044</td>\n",
       "      <td>419.000733</td>\n",
       "      <td>419.000733</td>\n",
       "      <td>7.570685e+06</td>\n",
       "    </tr>\n",
       "    <tr>\n",
       "      <th>std</th>\n",
       "      <td>108.537532</td>\n",
       "      <td>109.262960</td>\n",
       "      <td>107.555867</td>\n",
       "      <td>108.289999</td>\n",
       "      <td>108.289999</td>\n",
       "      <td>5.465535e+06</td>\n",
       "    </tr>\n",
       "    <tr>\n",
       "      <th>min</th>\n",
       "      <td>233.919998</td>\n",
       "      <td>250.649994</td>\n",
       "      <td>231.229996</td>\n",
       "      <td>233.880005</td>\n",
       "      <td>233.880005</td>\n",
       "      <td>1.144000e+06</td>\n",
       "    </tr>\n",
       "    <tr>\n",
       "      <th>25%</th>\n",
       "      <td>331.489990</td>\n",
       "      <td>336.299988</td>\n",
       "      <td>326.000000</td>\n",
       "      <td>331.619995</td>\n",
       "      <td>331.619995</td>\n",
       "      <td>4.091900e+06</td>\n",
       "    </tr>\n",
       "    <tr>\n",
       "      <th>50%</th>\n",
       "      <td>377.769989</td>\n",
       "      <td>383.010010</td>\n",
       "      <td>370.880005</td>\n",
       "      <td>378.670013</td>\n",
       "      <td>378.670013</td>\n",
       "      <td>5.934500e+06</td>\n",
       "    </tr>\n",
       "    <tr>\n",
       "      <th>75%</th>\n",
       "      <td>509.130005</td>\n",
       "      <td>515.630005</td>\n",
       "      <td>502.529999</td>\n",
       "      <td>509.079987</td>\n",
       "      <td>509.079987</td>\n",
       "      <td>9.322400e+06</td>\n",
       "    </tr>\n",
       "    <tr>\n",
       "      <th>max</th>\n",
       "      <td>692.349976</td>\n",
       "      <td>700.989990</td>\n",
       "      <td>686.090027</td>\n",
       "      <td>691.690002</td>\n",
       "      <td>691.690002</td>\n",
       "      <td>5.890430e+07</td>\n",
       "    </tr>\n",
       "  </tbody>\n",
       "</table>\n",
       "</div>"
      ],
      "text/plain": [
       "              Open         High          Low        Close    Adj Close   \n",
       "count  1009.000000  1009.000000  1009.000000  1009.000000  1009.000000  \\\n",
       "mean    419.059673   425.320703   412.374044   419.000733   419.000733   \n",
       "std     108.537532   109.262960   107.555867   108.289999   108.289999   \n",
       "min     233.919998   250.649994   231.229996   233.880005   233.880005   \n",
       "25%     331.489990   336.299988   326.000000   331.619995   331.619995   \n",
       "50%     377.769989   383.010010   370.880005   378.670013   378.670013   \n",
       "75%     509.130005   515.630005   502.529999   509.079987   509.079987   \n",
       "max     692.349976   700.989990   686.090027   691.690002   691.690002   \n",
       "\n",
       "             Volume  \n",
       "count  1.009000e+03  \n",
       "mean   7.570685e+06  \n",
       "std    5.465535e+06  \n",
       "min    1.144000e+06  \n",
       "25%    4.091900e+06  \n",
       "50%    5.934500e+06  \n",
       "75%    9.322400e+06  \n",
       "max    5.890430e+07  "
      ]
     },
     "execution_count": 4,
     "metadata": {},
     "output_type": "execute_result"
    }
   ],
   "source": [
    "df.describe()"
   ]
  },
  {
   "cell_type": "code",
   "execution_count": 6,
   "id": "5e8e903c",
   "metadata": {},
   "outputs": [
    {
     "data": {
      "text/plain": [
       "(1009, 7)"
      ]
     },
     "execution_count": 6,
     "metadata": {},
     "output_type": "execute_result"
    }
   ],
   "source": [
    "df.shape"
   ]
  },
  {
   "cell_type": "code",
   "execution_count": 7,
   "id": "7062442f",
   "metadata": {},
   "outputs": [
    {
     "name": "stdout",
     "output_type": "stream",
     "text": [
      "<class 'pandas.core.frame.DataFrame'>\n",
      "RangeIndex: 1009 entries, 0 to 1008\n",
      "Data columns (total 7 columns):\n",
      " #   Column     Non-Null Count  Dtype  \n",
      "---  ------     --------------  -----  \n",
      " 0   Date       1009 non-null   object \n",
      " 1   Open       1009 non-null   float64\n",
      " 2   High       1009 non-null   float64\n",
      " 3   Low        1009 non-null   float64\n",
      " 4   Close      1009 non-null   float64\n",
      " 5   Adj Close  1009 non-null   float64\n",
      " 6   Volume     1009 non-null   int64  \n",
      "dtypes: float64(5), int64(1), object(1)\n",
      "memory usage: 55.3+ KB\n"
     ]
    }
   ],
   "source": [
    "df.info()"
   ]
  },
  {
   "cell_type": "code",
   "execution_count": 8,
   "id": "a031dfd3",
   "metadata": {},
   "outputs": [
    {
     "data": {
      "text/html": [
       "<div>\n",
       "<style scoped>\n",
       "    .dataframe tbody tr th:only-of-type {\n",
       "        vertical-align: middle;\n",
       "    }\n",
       "\n",
       "    .dataframe tbody tr th {\n",
       "        vertical-align: top;\n",
       "    }\n",
       "\n",
       "    .dataframe thead th {\n",
       "        text-align: right;\n",
       "    }\n",
       "</style>\n",
       "<table border=\"1\" class=\"dataframe\">\n",
       "  <thead>\n",
       "    <tr style=\"text-align: right;\">\n",
       "      <th></th>\n",
       "      <th>Date</th>\n",
       "      <th>Open</th>\n",
       "      <th>High</th>\n",
       "      <th>Low</th>\n",
       "      <th>Close</th>\n",
       "      <th>Adj Close</th>\n",
       "      <th>Volume</th>\n",
       "    </tr>\n",
       "  </thead>\n",
       "  <tbody>\n",
       "    <tr>\n",
       "      <th>0</th>\n",
       "      <td>2018-02-05</td>\n",
       "      <td>262.000000</td>\n",
       "      <td>267.899994</td>\n",
       "      <td>250.029999</td>\n",
       "      <td>254.259995</td>\n",
       "      <td>254.259995</td>\n",
       "      <td>11896100</td>\n",
       "    </tr>\n",
       "    <tr>\n",
       "      <th>1</th>\n",
       "      <td>2018-02-06</td>\n",
       "      <td>247.699997</td>\n",
       "      <td>266.700012</td>\n",
       "      <td>245.000000</td>\n",
       "      <td>265.720001</td>\n",
       "      <td>265.720001</td>\n",
       "      <td>12595800</td>\n",
       "    </tr>\n",
       "    <tr>\n",
       "      <th>2</th>\n",
       "      <td>2018-02-07</td>\n",
       "      <td>266.579987</td>\n",
       "      <td>272.450012</td>\n",
       "      <td>264.329987</td>\n",
       "      <td>264.559998</td>\n",
       "      <td>264.559998</td>\n",
       "      <td>8981500</td>\n",
       "    </tr>\n",
       "    <tr>\n",
       "      <th>3</th>\n",
       "      <td>2018-02-08</td>\n",
       "      <td>267.079987</td>\n",
       "      <td>267.619995</td>\n",
       "      <td>250.000000</td>\n",
       "      <td>250.100006</td>\n",
       "      <td>250.100006</td>\n",
       "      <td>9306700</td>\n",
       "    </tr>\n",
       "    <tr>\n",
       "      <th>4</th>\n",
       "      <td>2018-02-09</td>\n",
       "      <td>253.850006</td>\n",
       "      <td>255.800003</td>\n",
       "      <td>236.110001</td>\n",
       "      <td>249.470001</td>\n",
       "      <td>249.470001</td>\n",
       "      <td>16906900</td>\n",
       "    </tr>\n",
       "  </tbody>\n",
       "</table>\n",
       "</div>"
      ],
      "text/plain": [
       "         Date        Open        High         Low       Close   Adj Close   \n",
       "0  2018-02-05  262.000000  267.899994  250.029999  254.259995  254.259995  \\\n",
       "1  2018-02-06  247.699997  266.700012  245.000000  265.720001  265.720001   \n",
       "2  2018-02-07  266.579987  272.450012  264.329987  264.559998  264.559998   \n",
       "3  2018-02-08  267.079987  267.619995  250.000000  250.100006  250.100006   \n",
       "4  2018-02-09  253.850006  255.800003  236.110001  249.470001  249.470001   \n",
       "\n",
       "     Volume  \n",
       "0  11896100  \n",
       "1  12595800  \n",
       "2   8981500  \n",
       "3   9306700  \n",
       "4  16906900  "
      ]
     },
     "execution_count": 8,
     "metadata": {},
     "output_type": "execute_result"
    }
   ],
   "source": [
    "df.head()"
   ]
  },
  {
   "cell_type": "code",
   "execution_count": 9,
   "id": "4d98dd68",
   "metadata": {},
   "outputs": [
    {
     "data": {
      "text/plain": [
       "Date         0\n",
       "Open         0\n",
       "High         0\n",
       "Low          0\n",
       "Close        0\n",
       "Adj Close    0\n",
       "Volume       0\n",
       "dtype: int64"
      ]
     },
     "execution_count": 9,
     "metadata": {},
     "output_type": "execute_result"
    }
   ],
   "source": [
    "df.isnull().sum()"
   ]
  },
  {
   "cell_type": "code",
   "execution_count": 11,
   "id": "ed097abc",
   "metadata": {},
   "outputs": [
    {
     "data": {
      "text/html": [
       "<div>\n",
       "<style scoped>\n",
       "    .dataframe tbody tr th:only-of-type {\n",
       "        vertical-align: middle;\n",
       "    }\n",
       "\n",
       "    .dataframe tbody tr th {\n",
       "        vertical-align: top;\n",
       "    }\n",
       "\n",
       "    .dataframe thead th {\n",
       "        text-align: right;\n",
       "    }\n",
       "</style>\n",
       "<table border=\"1\" class=\"dataframe\">\n",
       "  <thead>\n",
       "    <tr style=\"text-align: right;\">\n",
       "      <th></th>\n",
       "      <th>Date</th>\n",
       "      <th>Open</th>\n",
       "      <th>High</th>\n",
       "      <th>Low</th>\n",
       "      <th>Close</th>\n",
       "      <th>Adj Close</th>\n",
       "      <th>Volume</th>\n",
       "    </tr>\n",
       "  </thead>\n",
       "  <tbody>\n",
       "    <tr>\n",
       "      <th>0</th>\n",
       "      <td>2018-02-05</td>\n",
       "      <td>262.000000</td>\n",
       "      <td>267.899994</td>\n",
       "      <td>250.029999</td>\n",
       "      <td>254.259995</td>\n",
       "      <td>254.259995</td>\n",
       "      <td>11896100</td>\n",
       "    </tr>\n",
       "    <tr>\n",
       "      <th>1</th>\n",
       "      <td>2018-02-06</td>\n",
       "      <td>247.699997</td>\n",
       "      <td>266.700012</td>\n",
       "      <td>245.000000</td>\n",
       "      <td>265.720001</td>\n",
       "      <td>265.720001</td>\n",
       "      <td>12595800</td>\n",
       "    </tr>\n",
       "    <tr>\n",
       "      <th>2</th>\n",
       "      <td>2018-02-07</td>\n",
       "      <td>266.579987</td>\n",
       "      <td>272.450012</td>\n",
       "      <td>264.329987</td>\n",
       "      <td>264.559998</td>\n",
       "      <td>264.559998</td>\n",
       "      <td>8981500</td>\n",
       "    </tr>\n",
       "    <tr>\n",
       "      <th>3</th>\n",
       "      <td>2018-02-08</td>\n",
       "      <td>267.079987</td>\n",
       "      <td>267.619995</td>\n",
       "      <td>250.000000</td>\n",
       "      <td>250.100006</td>\n",
       "      <td>250.100006</td>\n",
       "      <td>9306700</td>\n",
       "    </tr>\n",
       "    <tr>\n",
       "      <th>4</th>\n",
       "      <td>2018-02-09</td>\n",
       "      <td>253.850006</td>\n",
       "      <td>255.800003</td>\n",
       "      <td>236.110001</td>\n",
       "      <td>249.470001</td>\n",
       "      <td>249.470001</td>\n",
       "      <td>16906900</td>\n",
       "    </tr>\n",
       "  </tbody>\n",
       "</table>\n",
       "</div>"
      ],
      "text/plain": [
       "        Date        Open        High         Low       Close   Adj Close   \n",
       "0 2018-02-05  262.000000  267.899994  250.029999  254.259995  254.259995  \\\n",
       "1 2018-02-06  247.699997  266.700012  245.000000  265.720001  265.720001   \n",
       "2 2018-02-07  266.579987  272.450012  264.329987  264.559998  264.559998   \n",
       "3 2018-02-08  267.079987  267.619995  250.000000  250.100006  250.100006   \n",
       "4 2018-02-09  253.850006  255.800003  236.110001  249.470001  249.470001   \n",
       "\n",
       "     Volume  \n",
       "0  11896100  \n",
       "1  12595800  \n",
       "2   8981500  \n",
       "3   9306700  \n",
       "4  16906900  "
      ]
     },
     "execution_count": 11,
     "metadata": {},
     "output_type": "execute_result"
    }
   ],
   "source": [
    "new_df=pd.read_csv('NFLX.csv',parse_dates=['Date'])\n",
    "df.head()"
   ]
  },
  {
   "cell_type": "code",
   "execution_count": 14,
   "id": "6fc26dd7",
   "metadata": {},
   "outputs": [
    {
     "name": "stdout",
     "output_type": "stream",
     "text": [
      "<class 'pandas._libs.tslibs.timestamps.Timestamp'>\n"
     ]
    }
   ],
   "source": [
    "new_df['Date']=pd.to_datetime(new_df['Date'],errors='coerce')\n",
    "print(type(new_df.Date[0]))"
   ]
  },
  {
   "cell_type": "code",
   "execution_count": 15,
   "id": "61469830",
   "metadata": {},
   "outputs": [
    {
     "data": {
      "text/plain": [
       "0   2018-02-05\n",
       "1   2018-02-06\n",
       "2   2018-02-07\n",
       "3   2018-02-08\n",
       "4   2018-02-09\n",
       "Name: Date, dtype: datetime64[ns]"
      ]
     },
     "execution_count": 15,
     "metadata": {},
     "output_type": "execute_result"
    }
   ],
   "source": [
    "new_df.sort_values(by=['Date'],inplace=True,ascending=True)\n",
    "new_df.Date.head()"
   ]
  },
  {
   "cell_type": "code",
   "execution_count": 16,
   "id": "ed36e5ff",
   "metadata": {},
   "outputs": [
    {
     "data": {
      "text/plain": [
       "<matplotlib.collections.PathCollection at 0x2624801d0a0>"
      ]
     },
     "execution_count": 16,
     "metadata": {},
     "output_type": "execute_result"
    },
    {
     "data": {
      "image/png": "[encoded data removed]",
      "text/plain": [
       "<Figure size 432x288 with 1 Axes>"
      ]
     },
     "metadata": {
      "needs_background": "light"
     },
     "output_type": "display_data"
    }
   ],
   "source": [
    "fig,ax=plt.subplots()\n",
    "ax.scatter(new_df.Date,new_df.Close)"
   ]
  },
  {
   "cell_type": "code",
   "execution_count": 17,
   "id": "e318f381",
   "metadata": {},
   "outputs": [
    {
     "data": {
      "text/html": [
       "<div>\n",
       "<style scoped>\n",
       "    .dataframe tbody tr th:only-of-type {\n",
       "        vertical-align: middle;\n",
       "    }\n",
       "\n",
       "    .dataframe tbody tr th {\n",
       "        vertical-align: top;\n",
       "    }\n",
       "\n",
       "    .dataframe thead th {\n",
       "        text-align: right;\n",
       "    }\n",
       "</style>\n",
       "<table border=\"1\" class=\"dataframe\">\n",
       "  <thead>\n",
       "    <tr style=\"text-align: right;\">\n",
       "      <th></th>\n",
       "      <th>index</th>\n",
       "      <th>Date</th>\n",
       "      <th>Open</th>\n",
       "      <th>High</th>\n",
       "      <th>Low</th>\n",
       "      <th>Close</th>\n",
       "      <th>Adj Close</th>\n",
       "      <th>Volume</th>\n",
       "    </tr>\n",
       "  </thead>\n",
       "  <tbody>\n",
       "    <tr>\n",
       "      <th>0</th>\n",
       "      <td>0</td>\n",
       "      <td>2018-02-05</td>\n",
       "      <td>262.000000</td>\n",
       "      <td>267.899994</td>\n",
       "      <td>250.029999</td>\n",
       "      <td>254.259995</td>\n",
       "      <td>254.259995</td>\n",
       "      <td>11896100</td>\n",
       "    </tr>\n",
       "    <tr>\n",
       "      <th>1</th>\n",
       "      <td>1</td>\n",
       "      <td>2018-02-06</td>\n",
       "      <td>247.699997</td>\n",
       "      <td>266.700012</td>\n",
       "      <td>245.000000</td>\n",
       "      <td>265.720001</td>\n",
       "      <td>265.720001</td>\n",
       "      <td>12595800</td>\n",
       "    </tr>\n",
       "    <tr>\n",
       "      <th>2</th>\n",
       "      <td>2</td>\n",
       "      <td>2018-02-07</td>\n",
       "      <td>266.579987</td>\n",
       "      <td>272.450012</td>\n",
       "      <td>264.329987</td>\n",
       "      <td>264.559998</td>\n",
       "      <td>264.559998</td>\n",
       "      <td>8981500</td>\n",
       "    </tr>\n",
       "    <tr>\n",
       "      <th>3</th>\n",
       "      <td>3</td>\n",
       "      <td>2018-02-08</td>\n",
       "      <td>267.079987</td>\n",
       "      <td>267.619995</td>\n",
       "      <td>250.000000</td>\n",
       "      <td>250.100006</td>\n",
       "      <td>250.100006</td>\n",
       "      <td>9306700</td>\n",
       "    </tr>\n",
       "    <tr>\n",
       "      <th>4</th>\n",
       "      <td>4</td>\n",
       "      <td>2018-02-09</td>\n",
       "      <td>253.850006</td>\n",
       "      <td>255.800003</td>\n",
       "      <td>236.110001</td>\n",
       "      <td>249.470001</td>\n",
       "      <td>249.470001</td>\n",
       "      <td>16906900</td>\n",
       "    </tr>\n",
       "    <tr>\n",
       "      <th>...</th>\n",
       "      <td>...</td>\n",
       "      <td>...</td>\n",
       "      <td>...</td>\n",
       "      <td>...</td>\n",
       "      <td>...</td>\n",
       "      <td>...</td>\n",
       "      <td>...</td>\n",
       "      <td>...</td>\n",
       "    </tr>\n",
       "    <tr>\n",
       "      <th>1004</th>\n",
       "      <td>1004</td>\n",
       "      <td>2022-01-31</td>\n",
       "      <td>401.970001</td>\n",
       "      <td>427.700012</td>\n",
       "      <td>398.200012</td>\n",
       "      <td>427.140015</td>\n",
       "      <td>427.140015</td>\n",
       "      <td>20047500</td>\n",
       "    </tr>\n",
       "    <tr>\n",
       "      <th>1005</th>\n",
       "      <td>1005</td>\n",
       "      <td>2022-02-01</td>\n",
       "      <td>432.959991</td>\n",
       "      <td>458.480011</td>\n",
       "      <td>425.540009</td>\n",
       "      <td>457.130005</td>\n",
       "      <td>457.130005</td>\n",
       "      <td>22542300</td>\n",
       "    </tr>\n",
       "    <tr>\n",
       "      <th>1006</th>\n",
       "      <td>1006</td>\n",
       "      <td>2022-02-02</td>\n",
       "      <td>448.250000</td>\n",
       "      <td>451.980011</td>\n",
       "      <td>426.480011</td>\n",
       "      <td>429.480011</td>\n",
       "      <td>429.480011</td>\n",
       "      <td>14346000</td>\n",
       "    </tr>\n",
       "    <tr>\n",
       "      <th>1007</th>\n",
       "      <td>1007</td>\n",
       "      <td>2022-02-03</td>\n",
       "      <td>421.440002</td>\n",
       "      <td>429.260010</td>\n",
       "      <td>404.279999</td>\n",
       "      <td>405.600006</td>\n",
       "      <td>405.600006</td>\n",
       "      <td>9905200</td>\n",
       "    </tr>\n",
       "    <tr>\n",
       "      <th>1008</th>\n",
       "      <td>1008</td>\n",
       "      <td>2022-02-04</td>\n",
       "      <td>407.309998</td>\n",
       "      <td>412.769989</td>\n",
       "      <td>396.640015</td>\n",
       "      <td>410.170013</td>\n",
       "      <td>410.170013</td>\n",
       "      <td>7782400</td>\n",
       "    </tr>\n",
       "  </tbody>\n",
       "</table>\n",
       "<p>1009 rows × 8 columns</p>\n",
       "</div>"
      ],
      "text/plain": [
       "      index       Date        Open        High         Low       Close   \n",
       "0         0 2018-02-05  262.000000  267.899994  250.029999  254.259995  \\\n",
       "1         1 2018-02-06  247.699997  266.700012  245.000000  265.720001   \n",
       "2         2 2018-02-07  266.579987  272.450012  264.329987  264.559998   \n",
       "3         3 2018-02-08  267.079987  267.619995  250.000000  250.100006   \n",
       "4         4 2018-02-09  253.850006  255.800003  236.110001  249.470001   \n",
       "...     ...        ...         ...         ...         ...         ...   \n",
       "1004   1004 2022-01-31  401.970001  427.700012  398.200012  427.140015   \n",
       "1005   1005 2022-02-01  432.959991  458.480011  425.540009  457.130005   \n",
       "1006   1006 2022-02-02  448.250000  451.980011  426.480011  429.480011   \n",
       "1007   1007 2022-02-03  421.440002  429.260010  404.279999  405.600006   \n",
       "1008   1008 2022-02-04  407.309998  412.769989  396.640015  410.170013   \n",
       "\n",
       "       Adj Close    Volume  \n",
       "0     254.259995  11896100  \n",
       "1     265.720001  12595800  \n",
       "2     264.559998   8981500  \n",
       "3     250.100006   9306700  \n",
       "4     249.470001  16906900  \n",
       "...          ...       ...  \n",
       "1004  427.140015  20047500  \n",
       "1005  457.130005  22542300  \n",
       "1006  429.480011  14346000  \n",
       "1007  405.600006   9905200  \n",
       "1008  410.170013   7782400  \n",
       "\n",
       "[1009 rows x 8 columns]"
      ]
     },
     "execution_count": 17,
     "metadata": {},
     "output_type": "execute_result"
    }
   ],
   "source": [
    "new_df.reset_index(inplace=True)\n",
    "new_df"
   ]
  },
  {
   "cell_type": "code",
   "execution_count": 18,
   "id": "d16935d6",
   "metadata": {},
   "outputs": [
    {
     "data": {
      "text/plain": [
       "0       254.259995\n",
       "1       265.720001\n",
       "2       264.559998\n",
       "3       250.100006\n",
       "4       249.470001\n",
       "           ...    \n",
       "1004    427.140015\n",
       "1005    457.130005\n",
       "1006    429.480011\n",
       "1007    405.600006\n",
       "1008    410.170013\n",
       "Name: Close, Length: 1009, dtype: float64"
      ]
     },
     "execution_count": 18,
     "metadata": {},
     "output_type": "execute_result"
    }
   ],
   "source": [
    "close_df=new_df['Close']\n",
    "close_df"
   ]
  },
  {
   "cell_type": "code",
   "execution_count": 19,
   "id": "97c8033e",
   "metadata": {},
   "outputs": [
    {
     "data": {
      "text/plain": [
       "1009"
      ]
     },
     "execution_count": 19,
     "metadata": {},
     "output_type": "execute_result"
    }
   ],
   "source": [
    "close_df.size"
   ]
  },
  {
   "cell_type": "code",
   "execution_count": 20,
   "id": "f4c6a1f1",
   "metadata": {},
   "outputs": [
    {
     "data": {
      "text/plain": [
       "(1009,)"
      ]
     },
     "execution_count": 20,
     "metadata": {},
     "output_type": "execute_result"
    }
   ],
   "source": [
    "close_df.shape"
   ]
  },
  {
   "cell_type": "code",
   "execution_count": 22,
   "id": "084111ce",
   "metadata": {},
   "outputs": [
    {
     "data": {
      "text/plain": [
       "count    1009.000000\n",
       "mean      419.000733\n",
       "std       108.289999\n",
       "min       233.880005\n",
       "25%       331.619995\n",
       "50%       378.670013\n",
       "75%       509.079987\n",
       "max       691.690002\n",
       "Name: Close, dtype: float64"
      ]
     },
     "execution_count": 22,
     "metadata": {},
     "output_type": "execute_result"
    }
   ],
   "source": [
    "close_df.describe()"
   ]
  },
  {
   "cell_type": "code",
   "execution_count": 25,
   "id": "2d734857",
   "metadata": {},
   "outputs": [
    {
     "data": {
      "text/plain": [
       "array([[0.04451626],\n",
       "       [0.06954849],\n",
       "       [0.06701469],\n",
       "       ...,\n",
       "       [0.4272515 ],\n",
       "       [0.37509011],\n",
       "       [0.38507243]])"
      ]
     },
     "execution_count": 25,
     "metadata": {},
     "output_type": "execute_result"
    }
   ],
   "source": [
    "scaler=MinMaxScaler(feature_range=(0,1))\n",
    "close_df=scaler.fit_transform(np.array(close_df).reshape(-1,1))\n",
    "close_df"
   ]
  },
  {
   "cell_type": "code",
   "execution_count": 26,
   "id": "4f2e3c80",
   "metadata": {},
   "outputs": [],
   "source": [
    "training_size=int(len(close_df)*0.7)\n",
    "test_size=len(close_df)-training_size\n",
    "train_data,test_data=close_df[0:training_size,:],close_df[training_size:len(close_df),:1]"
   ]
  },
  {
   "cell_type": "code",
   "execution_count": 27,
   "id": "58d8c0bd",
   "metadata": {},
   "outputs": [
    {
     "data": {
      "text/plain": [
       "((706, 1), (1009, 1))"
      ]
     },
     "execution_count": 27,
     "metadata": {},
     "output_type": "execute_result"
    }
   ],
   "source": [
    "train_data.shape,close_df.shape"
   ]
  },
  {
   "cell_type": "code",
   "execution_count": 28,
   "id": "0556e945",
   "metadata": {},
   "outputs": [
    {
     "data": {
      "text/plain": [
       "(303, 1)"
      ]
     },
     "execution_count": 28,
     "metadata": {},
     "output_type": "execute_result"
    }
   ],
   "source": [
    "test_data.shape"
   ]
  },
  {
   "cell_type": "code",
   "execution_count": 29,
   "id": "5dbb315f",
   "metadata": {},
   "outputs": [
    {
     "data": {
      "text/plain": [
       "numpy.ndarray"
      ]
     },
     "execution_count": 29,
     "metadata": {},
     "output_type": "execute_result"
    }
   ],
   "source": [
    "type(test_data)"
   ]
  },
  {
   "cell_type": "code",
   "execution_count": 30,
   "id": "f82144fc",
   "metadata": {},
   "outputs": [],
   "source": [
    "def create_dataset(dataset,time_step=1):\n",
    "    dataA=[]\n",
    "    dataB=[]\n",
    "    for i in range(len(dataset)-time_step-1):\n",
    "        a=dataset[i:(i+time_step),0]\n",
    "        dataA.append(a)\n",
    "        dataB.append(dataset[i+time_step,0])\n",
    "    return np.array(dataA), np.array(dataB)\n",
    "time_step=100\n",
    "A_train,b_train= create_dataset(train_data,time_step)\n",
    "A_test,B_test=create_dataset(test_data,time_step)"
   ]
  },
  {
   "cell_type": "code",
   "execution_count": 31,
   "id": "8a1434ef",
   "metadata": {},
   "outputs": [],
   "source": [
    "A_test,B_test=create_dataset(test_data,time_step)"
   ]
  },
  {
   "cell_type": "code",
   "execution_count": 32,
   "id": "91aebdb0",
   "metadata": {},
   "outputs": [
    {
     "data": {
      "text/plain": [
       "(605,)"
      ]
     },
     "execution_count": 32,
     "metadata": {},
     "output_type": "execute_result"
    }
   ],
   "source": [
    "b_train.shape"
   ]
  },
  {
   "cell_type": "code",
   "execution_count": 33,
   "id": "2a3a0fe6",
   "metadata": {},
   "outputs": [
    {
     "data": {
      "text/plain": [
       "(605, 100)"
      ]
     },
     "execution_count": 33,
     "metadata": {},
     "output_type": "execute_result"
    }
   ],
   "source": [
    "A_train.shape"
   ]
  },
  {
   "cell_type": "code",
   "execution_count": 34,
   "id": "84f4f355",
   "metadata": {},
   "outputs": [
    {
     "name": "stdout",
     "output_type": "stream",
     "text": [
      "(202, 100)\n",
      "(202,)\n"
     ]
    },
    {
     "data": {
      "text/plain": [
       "(None, None)"
      ]
     },
     "execution_count": 34,
     "metadata": {},
     "output_type": "execute_result"
    }
   ],
   "source": [
    "print(A_test.shape), print(B_test.shape)"
   ]
  },
  {
   "cell_type": "code",
   "execution_count": 35,
   "id": "512e26c8",
   "metadata": {},
   "outputs": [],
   "source": [
    "A_train=A_train.reshape(A_train.shape[0],A_train.shape[1],1)\n",
    "A_test=A_test.reshape(A_test.shape[0],A_test.shape[1],1)\n",
    " "
   ]
  },
  {
   "cell_type": "code",
   "execution_count": null,
   "id": "a83d5048",
   "metadata": {},
   "outputs": [],
   "source": []
  },
  {
   "cell_type": "code",
   "execution_count": 42,
   "id": "71210e58",
   "metadata": {},
   "outputs": [],
   "source": [
    "import tensorflow as tf\n",
    "from tensorflow import keras\n",
    "from tensorflow.keras import layers\n",
    "from tensorflow.keras.models import Sequential\n",
    "from tensorflow.keras.layers import Dense\n",
    "from tensorflow.keras.layers import LSTM\n",
    "model=Sequential()\n",
    "model.add(LSTM(50,return_sequences=True,input_shape=(time_step,1)))#input layer with 50 neurons\n",
    "model.add(LSTM(50,return_sequences=True)) #hidden layers with 50 neurons\n",
    "model.add(LSTM(50))\n",
    "model.add(Dense(1))#output layer\n",
    "model.compile(loss='mean_squared_error',optimizer='adam')\n",
    " "
   ]
  },
  {
   "cell_type": "code",
   "execution_count": null,
   "id": "c2e9a862",
   "metadata": {},
   "outputs": [],
   "source": []
  },
  {
   "cell_type": "code",
   "execution_count": 43,
   "id": "09620bbb",
   "metadata": {},
   "outputs": [],
   "source": [
    "model = Sequential()\n",
    "model.add(LSTM(50, return_sequences=True, input_shape=(100,1)))\n",
    "model.add(LSTM(50, return_sequences=True, input_shape=(100,1)))\n",
    "model.add(LSTM(50))\n",
    "model.add(Dense(1))\n",
    "model.compile(loss='mean_squared_error', optimizer='adam', metrics='acc')"
   ]
  },
  {
   "cell_type": "code",
   "execution_count": 44,
   "id": "89464bf0",
   "metadata": {},
   "outputs": [
    {
     "name": "stdout",
     "output_type": "stream",
     "text": [
      "Model: \"sequential_2\"\n",
      "_________________________________________________________________\n",
      " Layer (type)                Output Shape              Param #   \n",
      "=================================================================\n",
      " lstm_4 (LSTM)               (None, 100, 50)           10400     \n",
      "                                                                 \n",
      " lstm_5 (LSTM)               (None, 100, 50)           20200     \n",
      "                                                                 \n",
      " lstm_6 (LSTM)               (None, 50)                20200     \n",
      "                                                                 \n",
      " dense_2 (Dense)             (None, 1)                 51        \n",
      "                                                                 \n",
      "=================================================================\n",
      "Total params: 50851 (198.64 KB)\n",
      "Trainable params: 50851 (198.64 KB)\n",
      "Non-trainable params: 0 (0.00 Byte)\n",
      "_________________________________________________________________\n"
     ]
    }
   ],
   "source": [
    "model.summary()"
   ]
  },
  {
   "cell_type": "code",
   "execution_count": 45,
   "id": "4ec49ffd",
   "metadata": {},
   "outputs": [
    {
     "name": "stdout",
     "output_type": "stream",
     "text": [
      "Epoch 1/100\n",
      "10/10 [==============================] - 9s 369ms/step - loss: 0.0358 - acc: 0.0017 - val_loss: 0.0239 - val_acc: 0.0050\n",
      "Epoch 2/100\n",
      "10/10 [==============================] - 2s 230ms/step - loss: 0.0089 - acc: 0.0017 - val_loss: 0.0244 - val_acc: 0.0050\n",
      "Epoch 3/100\n",
      "10/10 [==============================] - 2s 250ms/step - loss: 0.0057 - acc: 0.0017 - val_loss: 0.0196 - val_acc: 0.0050\n",
      "Epoch 4/100\n",
      "10/10 [==============================] - 2s 238ms/step - loss: 0.0042 - acc: 0.0017 - val_loss: 0.0108 - val_acc: 0.0050\n",
      "Epoch 5/100\n",
      "10/10 [==============================] - 2s 247ms/step - loss: 0.0035 - acc: 0.0017 - val_loss: 0.0097 - val_acc: 0.0050\n",
      "Epoch 6/100\n",
      "10/10 [==============================] - 2s 238ms/step - loss: 0.0032 - acc: 0.0017 - val_loss: 0.0093 - val_acc: 0.0050\n",
      "Epoch 7/100\n",
      "10/10 [==============================] - 2s 230ms/step - loss: 0.0031 - acc: 0.0017 - val_loss: 0.0108 - val_acc: 0.0050\n",
      "Epoch 8/100\n",
      "10/10 [==============================] - 2s 230ms/step - loss: 0.0030 - acc: 0.0017 - val_loss: 0.0084 - val_acc: 0.0050\n",
      "Epoch 9/100\n",
      "10/10 [==============================] - 2s 227ms/step - loss: 0.0029 - acc: 0.0017 - val_loss: 0.0081 - val_acc: 0.0050\n",
      "Epoch 10/100\n",
      "10/10 [==============================] - 2s 232ms/step - loss: 0.0028 - acc: 0.0017 - val_loss: 0.0082 - val_acc: 0.0050\n",
      "Epoch 11/100\n",
      "10/10 [==============================] - 2s 230ms/step - loss: 0.0027 - acc: 0.0017 - val_loss: 0.0075 - val_acc: 0.0050\n",
      "Epoch 12/100\n",
      "10/10 [==============================] - 2s 246ms/step - loss: 0.0027 - acc: 0.0017 - val_loss: 0.0081 - val_acc: 0.0050\n",
      "Epoch 13/100\n",
      "10/10 [==============================] - 2s 242ms/step - loss: 0.0027 - acc: 0.0017 - val_loss: 0.0094 - val_acc: 0.0050\n",
      "Epoch 14/100\n",
      "10/10 [==============================] - 2s 235ms/step - loss: 0.0026 - acc: 0.0017 - val_loss: 0.0066 - val_acc: 0.0050\n",
      "Epoch 15/100\n",
      "10/10 [==============================] - 2s 228ms/step - loss: 0.0026 - acc: 0.0017 - val_loss: 0.0064 - val_acc: 0.0050\n",
      "Epoch 16/100\n",
      "10/10 [==============================] - 2s 227ms/step - loss: 0.0025 - acc: 0.0017 - val_loss: 0.0061 - val_acc: 0.0050\n",
      "Epoch 17/100\n",
      "10/10 [==============================] - 2s 229ms/step - loss: 0.0025 - acc: 0.0017 - val_loss: 0.0059 - val_acc: 0.0050\n",
      "Epoch 18/100\n",
      "10/10 [==============================] - 2s 228ms/step - loss: 0.0024 - acc: 0.0017 - val_loss: 0.0057 - val_acc: 0.0050\n",
      "Epoch 19/100\n",
      "10/10 [==============================] - 2s 223ms/step - loss: 0.0023 - acc: 0.0017 - val_loss: 0.0054 - val_acc: 0.0050\n",
      "Epoch 20/100\n",
      "10/10 [==============================] - 2s 225ms/step - loss: 0.0023 - acc: 0.0017 - val_loss: 0.0056 - val_acc: 0.0050\n",
      "Epoch 21/100\n",
      "10/10 [==============================] - 2s 229ms/step - loss: 0.0023 - acc: 0.0017 - val_loss: 0.0060 - val_acc: 0.0050\n",
      "Epoch 22/100\n",
      "10/10 [==============================] - 2s 228ms/step - loss: 0.0022 - acc: 0.0017 - val_loss: 0.0048 - val_acc: 0.0050\n",
      "Epoch 23/100\n",
      "10/10 [==============================] - 2s 223ms/step - loss: 0.0021 - acc: 0.0017 - val_loss: 0.0045 - val_acc: 0.0050\n",
      "Epoch 24/100\n",
      "10/10 [==============================] - 2s 220ms/step - loss: 0.0021 - acc: 0.0017 - val_loss: 0.0053 - val_acc: 0.0050\n",
      "Epoch 25/100\n",
      "10/10 [==============================] - 2s 224ms/step - loss: 0.0022 - acc: 0.0017 - val_loss: 0.0046 - val_acc: 0.0050\n",
      "Epoch 26/100\n",
      "10/10 [==============================] - 2s 223ms/step - loss: 0.0020 - acc: 0.0017 - val_loss: 0.0048 - val_acc: 0.0050\n",
      "Epoch 27/100\n",
      "10/10 [==============================] - 2s 219ms/step - loss: 0.0020 - acc: 0.0017 - val_loss: 0.0052 - val_acc: 0.0050\n",
      "Epoch 28/100\n",
      "10/10 [==============================] - 2s 221ms/step - loss: 0.0020 - acc: 0.0017 - val_loss: 0.0041 - val_acc: 0.0050\n",
      "Epoch 29/100\n",
      "10/10 [==============================] - 2s 231ms/step - loss: 0.0019 - acc: 0.0017 - val_loss: 0.0040 - val_acc: 0.0050\n",
      "Epoch 30/100\n",
      "10/10 [==============================] - 2s 228ms/step - loss: 0.0018 - acc: 0.0017 - val_loss: 0.0037 - val_acc: 0.0050\n",
      "Epoch 31/100\n",
      "10/10 [==============================] - 2s 234ms/step - loss: 0.0019 - acc: 0.0017 - val_loss: 0.0046 - val_acc: 0.0050\n",
      "Epoch 32/100\n",
      "10/10 [==============================] - 2s 230ms/step - loss: 0.0018 - acc: 0.0017 - val_loss: 0.0035 - val_acc: 0.0050\n",
      "Epoch 33/100\n",
      "10/10 [==============================] - 2s 234ms/step - loss: 0.0017 - acc: 0.0017 - val_loss: 0.0036 - val_acc: 0.0050\n",
      "Epoch 34/100\n",
      "10/10 [==============================] - 2s 222ms/step - loss: 0.0017 - acc: 0.0017 - val_loss: 0.0033 - val_acc: 0.0050\n",
      "Epoch 35/100\n",
      "10/10 [==============================] - 2s 216ms/step - loss: 0.0018 - acc: 0.0017 - val_loss: 0.0053 - val_acc: 0.0050\n",
      "Epoch 36/100\n",
      "10/10 [==============================] - 2s 214ms/step - loss: 0.0016 - acc: 0.0017 - val_loss: 0.0033 - val_acc: 0.0050\n",
      "Epoch 37/100\n",
      "10/10 [==============================] - 2s 214ms/step - loss: 0.0015 - acc: 0.0017 - val_loss: 0.0033 - val_acc: 0.0050\n",
      "Epoch 38/100\n",
      "10/10 [==============================] - 2s 213ms/step - loss: 0.0014 - acc: 0.0017 - val_loss: 0.0031 - val_acc: 0.0050\n",
      "Epoch 39/100\n",
      "10/10 [==============================] - 2s 214ms/step - loss: 0.0014 - acc: 0.0017 - val_loss: 0.0031 - val_acc: 0.0050\n",
      "Epoch 40/100\n",
      "10/10 [==============================] - 2s 213ms/step - loss: 0.0015 - acc: 0.0017 - val_loss: 0.0031 - val_acc: 0.0050\n",
      "Epoch 41/100\n",
      "10/10 [==============================] - 2s 213ms/step - loss: 0.0014 - acc: 0.0017 - val_loss: 0.0030 - val_acc: 0.0050\n",
      "Epoch 42/100\n",
      "10/10 [==============================] - 2s 216ms/step - loss: 0.0013 - acc: 0.0017 - val_loss: 0.0028 - val_acc: 0.0050\n",
      "Epoch 43/100\n",
      "10/10 [==============================] - 2s 218ms/step - loss: 0.0013 - acc: 0.0017 - val_loss: 0.0031 - val_acc: 0.0050\n",
      "Epoch 44/100\n",
      "10/10 [==============================] - 2s 216ms/step - loss: 0.0014 - acc: 0.0017 - val_loss: 0.0040 - val_acc: 0.0050\n",
      "Epoch 45/100\n",
      "10/10 [==============================] - 2s 217ms/step - loss: 0.0013 - acc: 0.0017 - val_loss: 0.0027 - val_acc: 0.0050\n",
      "Epoch 46/100\n",
      "10/10 [==============================] - 2s 223ms/step - loss: 0.0012 - acc: 0.0017 - val_loss: 0.0026 - val_acc: 0.0050\n",
      "Epoch 47/100\n",
      "10/10 [==============================] - 2s 218ms/step - loss: 0.0012 - acc: 0.0017 - val_loss: 0.0026 - val_acc: 0.0050\n",
      "Epoch 48/100\n",
      "10/10 [==============================] - 2s 231ms/step - loss: 0.0011 - acc: 0.0017 - val_loss: 0.0026 - val_acc: 0.0050\n",
      "Epoch 49/100\n",
      "10/10 [==============================] - 2s 217ms/step - loss: 0.0011 - acc: 0.0017 - val_loss: 0.0024 - val_acc: 0.0050\n",
      "Epoch 50/100\n",
      "10/10 [==============================] - 2s 218ms/step - loss: 0.0012 - acc: 0.0017 - val_loss: 0.0026 - val_acc: 0.0050\n",
      "Epoch 51/100\n",
      "10/10 [==============================] - 2s 212ms/step - loss: 0.0010 - acc: 0.0017 - val_loss: 0.0022 - val_acc: 0.0050\n",
      "Epoch 52/100\n",
      "10/10 [==============================] - 2s 219ms/step - loss: 9.8732e-04 - acc: 0.0017 - val_loss: 0.0021 - val_acc: 0.0050\n",
      "Epoch 53/100\n",
      "10/10 [==============================] - 2s 214ms/step - loss: 9.7547e-04 - acc: 0.0017 - val_loss: 0.0020 - val_acc: 0.0050\n",
      "Epoch 54/100\n",
      "10/10 [==============================] - 2s 210ms/step - loss: 9.4045e-04 - acc: 0.0017 - val_loss: 0.0020 - val_acc: 0.0050\n",
      "Epoch 55/100\n",
      "10/10 [==============================] - 2s 212ms/step - loss: 9.4346e-04 - acc: 0.0017 - val_loss: 0.0019 - val_acc: 0.0050\n",
      "Epoch 56/100\n",
      "10/10 [==============================] - 2s 226ms/step - loss: 9.5752e-04 - acc: 0.0017 - val_loss: 0.0019 - val_acc: 0.0050\n",
      "Epoch 57/100\n",
      "10/10 [==============================] - 2s 232ms/step - loss: 8.6394e-04 - acc: 0.0017 - val_loss: 0.0019 - val_acc: 0.0050\n",
      "Epoch 58/100\n",
      "10/10 [==============================] - 2s 212ms/step - loss: 8.3265e-04 - acc: 0.0017 - val_loss: 0.0021 - val_acc: 0.0050\n",
      "Epoch 59/100\n",
      "10/10 [==============================] - 2s 215ms/step - loss: 9.4381e-04 - acc: 0.0017 - val_loss: 0.0019 - val_acc: 0.0050\n",
      "Epoch 60/100\n",
      "10/10 [==============================] - 2s 234ms/step - loss: 7.9851e-04 - acc: 0.0017 - val_loss: 0.0020 - val_acc: 0.0050\n",
      "Epoch 61/100\n",
      "10/10 [==============================] - 2s 228ms/step - loss: 8.1594e-04 - acc: 0.0017 - val_loss: 0.0019 - val_acc: 0.0050\n",
      "Epoch 62/100\n",
      "10/10 [==============================] - 2s 212ms/step - loss: 7.6255e-04 - acc: 0.0017 - val_loss: 0.0034 - val_acc: 0.0050\n",
      "Epoch 63/100\n",
      "10/10 [==============================] - 2s 209ms/step - loss: 8.4375e-04 - acc: 0.0017 - val_loss: 0.0024 - val_acc: 0.0050\n",
      "Epoch 64/100\n",
      "10/10 [==============================] - 2s 209ms/step - loss: 7.4428e-04 - acc: 0.0017 - val_loss: 0.0020 - val_acc: 0.0050\n",
      "Epoch 65/100\n",
      "10/10 [==============================] - 2s 208ms/step - loss: 7.2728e-04 - acc: 0.0017 - val_loss: 0.0023 - val_acc: 0.0050\n",
      "Epoch 66/100\n",
      "10/10 [==============================] - 2s 214ms/step - loss: 7.8223e-04 - acc: 0.0017 - val_loss: 0.0040 - val_acc: 0.0050\n",
      "Epoch 67/100\n",
      "10/10 [==============================] - 2s 211ms/step - loss: 7.7100e-04 - acc: 0.0017 - val_loss: 0.0025 - val_acc: 0.0050\n",
      "Epoch 68/100\n",
      "10/10 [==============================] - 2s 214ms/step - loss: 6.9629e-04 - acc: 0.0017 - val_loss: 0.0022 - val_acc: 0.0050\n",
      "Epoch 69/100\n",
      "10/10 [==============================] - 2s 211ms/step - loss: 8.4830e-04 - acc: 0.0017 - val_loss: 0.0041 - val_acc: 0.0050\n",
      "Epoch 70/100\n",
      "10/10 [==============================] - 2s 211ms/step - loss: 7.6505e-04 - acc: 0.0017 - val_loss: 0.0023 - val_acc: 0.0050\n",
      "Epoch 71/100\n",
      "10/10 [==============================] - 2s 209ms/step - loss: 6.9127e-04 - acc: 0.0017 - val_loss: 0.0023 - val_acc: 0.0050\n",
      "Epoch 72/100\n",
      "10/10 [==============================] - 2s 206ms/step - loss: 6.5185e-04 - acc: 0.0017 - val_loss: 0.0022 - val_acc: 0.0050\n",
      "Epoch 73/100\n",
      "10/10 [==============================] - 2s 210ms/step - loss: 7.2047e-04 - acc: 0.0017 - val_loss: 0.0022 - val_acc: 0.0050\n",
      "Epoch 74/100\n",
      "10/10 [==============================] - 2s 211ms/step - loss: 6.8100e-04 - acc: 0.0017 - val_loss: 0.0027 - val_acc: 0.0050\n",
      "Epoch 75/100\n",
      "10/10 [==============================] - 2s 214ms/step - loss: 6.9550e-04 - acc: 0.0017 - val_loss: 0.0022 - val_acc: 0.0050\n",
      "Epoch 76/100\n",
      "10/10 [==============================] - 2s 212ms/step - loss: 6.3515e-04 - acc: 0.0017 - val_loss: 0.0026 - val_acc: 0.0050\n",
      "Epoch 77/100\n",
      "10/10 [==============================] - 2s 209ms/step - loss: 6.6264e-04 - acc: 0.0017 - val_loss: 0.0034 - val_acc: 0.0050\n",
      "Epoch 78/100\n",
      "10/10 [==============================] - 2s 209ms/step - loss: 6.6929e-04 - acc: 0.0017 - val_loss: 0.0020 - val_acc: 0.0050\n",
      "Epoch 79/100\n",
      "10/10 [==============================] - 2s 211ms/step - loss: 6.6859e-04 - acc: 0.0017 - val_loss: 0.0026 - val_acc: 0.0050\n",
      "Epoch 80/100\n",
      "10/10 [==============================] - 2s 210ms/step - loss: 8.3059e-04 - acc: 0.0017 - val_loss: 0.0034 - val_acc: 0.0050\n",
      "Epoch 81/100\n",
      "10/10 [==============================] - 2s 214ms/step - loss: 7.0450e-04 - acc: 0.0017 - val_loss: 0.0020 - val_acc: 0.0050\n",
      "Epoch 82/100\n",
      "10/10 [==============================] - 2s 210ms/step - loss: 6.9461e-04 - acc: 0.0017 - val_loss: 0.0024 - val_acc: 0.0050\n",
      "Epoch 83/100\n",
      "10/10 [==============================] - 2s 211ms/step - loss: 6.0988e-04 - acc: 0.0017 - val_loss: 0.0029 - val_acc: 0.0050\n",
      "Epoch 84/100\n",
      "10/10 [==============================] - 2s 213ms/step - loss: 7.5645e-04 - acc: 0.0017 - val_loss: 0.0025 - val_acc: 0.0050\n",
      "Epoch 85/100\n",
      "10/10 [==============================] - 2s 211ms/step - loss: 6.9424e-04 - acc: 0.0017 - val_loss: 0.0026 - val_acc: 0.0050\n",
      "Epoch 86/100\n",
      "10/10 [==============================] - 2s 211ms/step - loss: 8.2673e-04 - acc: 0.0017 - val_loss: 0.0051 - val_acc: 0.0050\n",
      "Epoch 87/100\n",
      "10/10 [==============================] - 2s 208ms/step - loss: 6.8619e-04 - acc: 0.0017 - val_loss: 0.0026 - val_acc: 0.0050\n",
      "Epoch 88/100\n",
      "10/10 [==============================] - 2s 228ms/step - loss: 6.6865e-04 - acc: 0.0017 - val_loss: 0.0025 - val_acc: 0.0050\n",
      "Epoch 89/100\n",
      "10/10 [==============================] - 2s 233ms/step - loss: 6.3936e-04 - acc: 0.0017 - val_loss: 0.0033 - val_acc: 0.0050\n",
      "Epoch 90/100\n",
      "10/10 [==============================] - 2s 216ms/step - loss: 6.3746e-04 - acc: 0.0017 - val_loss: 0.0025 - val_acc: 0.0050\n",
      "Epoch 91/100\n",
      "10/10 [==============================] - 2s 212ms/step - loss: 5.8733e-04 - acc: 0.0017 - val_loss: 0.0042 - val_acc: 0.0050\n",
      "Epoch 92/100\n",
      "10/10 [==============================] - 2s 211ms/step - loss: 5.8718e-04 - acc: 0.0017 - val_loss: 0.0028 - val_acc: 0.0050\n",
      "Epoch 93/100\n",
      "10/10 [==============================] - 2s 214ms/step - loss: 5.8567e-04 - acc: 0.0017 - val_loss: 0.0032 - val_acc: 0.0050\n",
      "Epoch 94/100\n",
      "10/10 [==============================] - 2s 212ms/step - loss: 5.5767e-04 - acc: 0.0017 - val_loss: 0.0034 - val_acc: 0.0050\n",
      "Epoch 95/100\n",
      "10/10 [==============================] - 2s 208ms/step - loss: 5.6201e-04 - acc: 0.0017 - val_loss: 0.0026 - val_acc: 0.0050\n",
      "Epoch 96/100\n",
      "10/10 [==============================] - 2s 211ms/step - loss: 5.7307e-04 - acc: 0.0017 - val_loss: 0.0039 - val_acc: 0.0050\n",
      "Epoch 97/100\n",
      "10/10 [==============================] - 2s 210ms/step - loss: 5.8319e-04 - acc: 0.0017 - val_loss: 0.0024 - val_acc: 0.0050\n",
      "Epoch 98/100\n",
      "10/10 [==============================] - 2s 223ms/step - loss: 5.7246e-04 - acc: 0.0017 - val_loss: 0.0047 - val_acc: 0.0050\n",
      "Epoch 99/100\n",
      "10/10 [==============================] - 2s 211ms/step - loss: 5.4368e-04 - acc: 0.0017 - val_loss: 0.0033 - val_acc: 0.0050\n",
      "Epoch 100/100\n",
      "10/10 [==============================] - 2s 214ms/step - loss: 5.4685e-04 - acc: 0.0017 - val_loss: 0.0027 - val_acc: 0.0050\n"
     ]
    }
   ],
   "source": [
    "model.fit(A_train, b_train, validation_data = (A_test, B_test), epochs =100, batch_size = 64, verbose = 1);"
   ]
  },
  {
   "cell_type": "code",
   "execution_count": 46,
   "id": "73a7137d",
   "metadata": {},
   "outputs": [
    {
     "data": {
      "image/png": "[encoded data removed]",
      "text/plain": [
       "<Figure size 432x288 with 1 Axes>"
      ]
     },
     "metadata": {
      "needs_background": "light"
     },
     "output_type": "display_data"
    }
   ],
   "source": [
    "loss=model.history.history['loss']\n",
    "plt.plot(loss)\n",
    "plt.xlabel(\"No.of iteration...\")\n",
    "plt.ylabel(\"loss value...\")\n",
    "plt.title(\"variation of loss value with No. of iteration\",color=\"orange\",fontsize=16,fontweight=\"bold\");\n"
   ]
  },
  {
   "cell_type": "code",
   "execution_count": 47,
   "id": "eb35271e",
   "metadata": {},
   "outputs": [
    {
     "name": "stdout",
     "output_type": "stream",
     "text": [
      "19/19 [==============================] - 2s 36ms/step\n"
     ]
    }
   ],
   "source": [
    "train_predict1=model.predict(A_train)"
   ]
  },
  {
   "cell_type": "code",
   "execution_count": 48,
   "id": "94a2d293",
   "metadata": {},
   "outputs": [
    {
     "name": "stdout",
     "output_type": "stream",
     "text": [
      "7/7 [==============================] - 0s 38ms/step\n"
     ]
    }
   ],
   "source": [
    "test_predict1=model.predict(A_test)"
   ]
  },
  {
   "cell_type": "code",
   "execution_count": 49,
   "id": "888d46c9",
   "metadata": {},
   "outputs": [],
   "source": [
    "train_predict1=scaler.inverse_transform(train_predict1)\n",
    "test_predict1=scaler.inverse_transform(test_predict1)"
   ]
  },
  {
   "cell_type": "code",
   "execution_count": 51,
   "id": "37e7e887",
   "metadata": {},
   "outputs": [
    {
     "data": {
      "text/plain": [
       "378.1943243266416"
      ]
     },
     "execution_count": 51,
     "metadata": {},
     "output_type": "execute_result"
    }
   ],
   "source": [
    "import math\n",
    "from sklearn.metrics import mean_squared_error\n",
    "math.sqrt(mean_squared_error(b_train,train_predict1))\n"
   ]
  },
  {
   "cell_type": "code",
   "execution_count": 53,
   "id": "0434df43",
   "metadata": {},
   "outputs": [
    {
     "data": {
      "text/plain": [
       "553.0007391586671"
      ]
     },
     "execution_count": 53,
     "metadata": {},
     "output_type": "execute_result"
    }
   ],
   "source": [
    "math.sqrt(mean_squared_error(B_test,test_predict1))"
   ]
  },
  {
   "cell_type": "code",
   "execution_count": 54,
   "id": "60f7e685",
   "metadata": {},
   "outputs": [
    {
     "data": {
      "text/plain": [
       "array([[0.04451626],\n",
       "       [0.06954849],\n",
       "       [0.06701469],\n",
       "       ...,\n",
       "       [0.4272515 ],\n",
       "       [0.37509011],\n",
       "       [0.38507243]])"
      ]
     },
     "execution_count": 54,
     "metadata": {},
     "output_type": "execute_result"
    }
   ],
   "source": [
    "close_df"
   ]
  },
  {
   "cell_type": "code",
   "execution_count": 55,
   "id": "a5c8e978",
   "metadata": {},
   "outputs": [
    {
     "data": {
      "text/plain": [
       "(605, 1)"
      ]
     },
     "execution_count": 55,
     "metadata": {},
     "output_type": "execute_result"
    }
   ],
   "source": [
    "train_predict1.shape"
   ]
  },
  {
   "cell_type": "code",
   "execution_count": 56,
   "id": "fae2a1ee",
   "metadata": {},
   "outputs": [],
   "source": [
    "look_back=100\n",
    "trainPredictPlot = np.empty_like(close_df)\n",
    "trainPredictPlot[:, :] = np.nan\n",
    "trainPredictPlot[look_back:len(train_predict1)+look_back, :] = train_predict1\n",
    "\n",
    "# shift test predictions for plotting\n",
    "testPredictPlot = np.empty_like(close_df)\n",
    "testPredictPlot[:, :] = np.nan\n",
    "testPredictPlot[len(train_predict1)+(look_back*2)+1:len(df)-1, :] = test_predict1"
   ]
  },
  {
   "cell_type": "code",
   "execution_count": 61,
   "id": "89062007",
   "metadata": {},
   "outputs": [
    {
     "data": {
      "text/plain": [
       "Text(0, 0.5, 'closing price')"
      ]
     },
     "execution_count": 61,
     "metadata": {},
     "output_type": "execute_result"
    },
    {
     "data": {
      "image/png": "[encoded data removed]",
      "text/plain": [
       "<Figure size 720x360 with 1 Axes>"
      ]
     },
     "metadata": {
      "needs_background": "light"
     },
     "output_type": "display_data"
    }
   ],
   "source": [
    "plt.figure(figsize=(10,5))\n",
    "plt.plot(scaler.inverse_transform(close_df))\n",
    "plt.title(\"variation of actual dataset\",color=\"red\",fontsize=16,fontweight=\"bold\")\n",
    "plt.xlabel(\"data index number\")\n",
    "plt.ylabel(\"closing price\")"
   ]
  },
  {
   "cell_type": "code",
   "execution_count": 60,
   "id": "d06edc13",
   "metadata": {},
   "outputs": [
    {
     "data": {
      "text/plain": [
       "Text(0, 0.5, 'closing price')"
      ]
     },
     "execution_count": 60,
     "metadata": {},
     "output_type": "execute_result"
    },
    {
     "data": {
      "image/png": "[encoded data removed]",
      "text/plain": [
       "<Figure size 432x288 with 1 Axes>"
      ]
     },
     "metadata": {
      "needs_background": "light"
     },
     "output_type": "display_data"
    }
   ],
   "source": [
    "plt.plot(scaler.inverse_transform(close_df))\n",
    "plt.plot(trainPredictPlot)\n",
    "plt.title(\"variation of predicted trained dataset(orange) and actual dataset(lightblue)\",color=\"red\",fontsize=16,fontweight=\"bold\")\n",
    "plt.xlabel(\"data index number\")\n",
    "plt.ylabel(\"closing price\")"
   ]
  },
  {
   "cell_type": "code",
   "execution_count": 62,
   "id": "05e5d054",
   "metadata": {},
   "outputs": [
    {
     "data": {
      "image/png": "[encoded data removed]",
      "text/plain": [
       "<Figure size 432x288 with 1 Axes>"
      ]
     },
     "metadata": {
      "needs_background": "light"
     },
     "output_type": "display_data"
    }
   ],
   "source": [
    "plt.plot(scaler.inverse_transform(close_df))\n",
    "plt.plot(trainPredictPlot)\n",
    "plt.title(\"variation of predicted tested dataset(green) and actual dataset(lightblue)\",color=\"red\",fontsize=16,fontweight=\"bold\")\n",
    "plt.xlabel(\"data index number\")\n",
    "plt.ylabel(\"closing price\")\n",
    "plt.plot(testPredictPlot)\n",
    "plt.show()"
   ]
  },
  {
   "cell_type": "code",
   "execution_count": null,
   "id": "ed98f08e",
   "metadata": {},
   "outputs": [],
   "source": []
  }
 ],
 "metadata": {
  "kernelspec": {
   "display_name": "Python 3 (ipykernel)",
   "language": "python",
   "name": "python3"
  },
  "language_info": {
   "codemirror_mode": {
    "name": "ipython",
    "version": 3
   },
   "file_extension": ".py",
   "mimetype": "text/x-python",
   "name": "python",
   "nbconvert_exporter": "python",
   "pygments_lexer": "ipython3",
   "version": "3.9.12"
  }
 },
 "nbformat": 4,
 "nbformat_minor": 5
}
